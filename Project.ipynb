{
 "cells": [
  {
   "cell_type": "markdown",
   "id": "controlled-romantic",
   "metadata": {
    "toc": true
   },
   "source": [
    "<h1>Table of Contents<span class=\"tocSkip\"></span></h1>\n",
    "<div class=\"toc\"><ul class=\"toc-item\"><li><span><a href=\"#ISE-291-Term-Project\" data-toc-modified-id=\"ISE-291-Term-Project-1\"><span class=\"toc-item-num\">1&nbsp;&nbsp;</span>ISE 291 Term Project</a></span><ul class=\"toc-item\"><li><span><a href=\"#Task-1\" data-toc-modified-id=\"Task-1-1.1\"><span class=\"toc-item-num\">1.1&nbsp;&nbsp;</span>Task-1</a></span></li><li><span><a href=\"#Task-2\" data-toc-modified-id=\"Task-2-1.2\"><span class=\"toc-item-num\">1.2&nbsp;&nbsp;</span>Task-2</a></span></li><li><span><a href=\"#Task-3\" data-toc-modified-id=\"Task-3-1.3\"><span class=\"toc-item-num\">1.3&nbsp;&nbsp;</span>Task-3</a></span></li><li><span><a href=\"#Task-4\" data-toc-modified-id=\"Task-4-1.4\"><span class=\"toc-item-num\">1.4&nbsp;&nbsp;</span>Task-4</a></span></li><li><span><a href=\"#Task-5\" data-toc-modified-id=\"Task-5-1.5\"><span class=\"toc-item-num\">1.5&nbsp;&nbsp;</span>Task-5</a></span></li><li><span><a href=\"#Task-6\" data-toc-modified-id=\"Task-6-1.6\"><span class=\"toc-item-num\">1.6&nbsp;&nbsp;</span>Task-6</a></span></li><li><span><a href=\"#Task-7\" data-toc-modified-id=\"Task-7-1.7\"><span class=\"toc-item-num\">1.7&nbsp;&nbsp;</span>Task-7</a></span></li><li><span><a href=\"#Task-8\" data-toc-modified-id=\"Task-8-1.8\"><span class=\"toc-item-num\">1.8&nbsp;&nbsp;</span>Task-8</a></span></li><li><span><a href=\"#Task-9\" data-toc-modified-id=\"Task-9-1.9\"><span class=\"toc-item-num\">1.9&nbsp;&nbsp;</span>Task-9</a></span></li><li><span><a href=\"#Task-10\" data-toc-modified-id=\"Task-10-1.10\"><span class=\"toc-item-num\">1.10&nbsp;&nbsp;</span>Task-10</a></span></li><li><span><a href=\"#References\" data-toc-modified-id=\"References-1.11\"><span class=\"toc-item-num\">1.11&nbsp;&nbsp;</span>References</a></span></li></ul></li></ul></div>"
   ]
  },
  {
   "cell_type": "markdown",
   "id": "stunning-roller",
   "metadata": {},
   "source": [
    "# ISE 291 Term Project "
   ]
  },
  {
   "cell_type": "markdown",
   "id": "abandoned-russia",
   "metadata": {},
   "source": [
    "Group Number =   7"
   ]
  },
  {
   "cell_type": "markdown",
   "id": "cloudy-ridge",
   "metadata": {},
   "source": [
    "Group Members:\n",
    "\n",
    "Names                                Student IDs\n",
    "Mohammed Alkhnani                     201954190\n"
   ]
  },
  {
   "cell_type": "markdown",
   "id": "worst-pizza",
   "metadata": {},
   "source": [
    "## Task-1"
   ]
  },
  {
   "cell_type": "code",
   "execution_count": 1,
   "id": "consistent-eclipse",
   "metadata": {},
   "outputs": [
    {
     "data": {
      "text/html": [
       "<div>\n",
       "<style scoped>\n",
       "    .dataframe tbody tr th:only-of-type {\n",
       "        vertical-align: middle;\n",
       "    }\n",
       "\n",
       "    .dataframe tbody tr th {\n",
       "        vertical-align: top;\n",
       "    }\n",
       "\n",
       "    .dataframe thead th {\n",
       "        text-align: right;\n",
       "    }\n",
       "</style>\n",
       "<table border=\"1\" class=\"dataframe\">\n",
       "  <thead>\n",
       "    <tr style=\"text-align: right;\">\n",
       "      <th></th>\n",
       "      <th>Manufacturer</th>\n",
       "      <th>Type</th>\n",
       "      <th>Cylinders</th>\n",
       "      <th>Model_Year</th>\n",
       "      <th>Model_Price</th>\n",
       "      <th>Sold_Year</th>\n",
       "      <th>Sale_Price</th>\n",
       "      <th>KM_Driven</th>\n",
       "      <th>KPL</th>\n",
       "      <th>Power</th>\n",
       "      <th>Class</th>\n",
       "      <th>Location</th>\n",
       "      <th>Accident_History</th>\n",
       "      <th>Owner_History</th>\n",
       "      <th>Color</th>\n",
       "      <th>Seller_Type</th>\n",
       "      <th>Service_History</th>\n",
       "    </tr>\n",
       "  </thead>\n",
       "  <tbody>\n",
       "    <tr>\n",
       "      <th>0</th>\n",
       "      <td>Huendae</td>\n",
       "      <td>sedan</td>\n",
       "      <td>4</td>\n",
       "      <td>2005</td>\n",
       "      <td>54,911 SAR</td>\n",
       "      <td>2009</td>\n",
       "      <td>37,325 SAR</td>\n",
       "      <td>197508</td>\n",
       "      <td>19000.0mpl</td>\n",
       "      <td>2WD</td>\n",
       "      <td>standard</td>\n",
       "      <td>Riyadh</td>\n",
       "      <td>3</td>\n",
       "      <td>-2</td>\n",
       "      <td>Black</td>\n",
       "      <td>individual</td>\n",
       "      <td>1</td>\n",
       "    </tr>\n",
       "    <tr>\n",
       "      <th>1</th>\n",
       "      <td>Shevy</td>\n",
       "      <td>crossover</td>\n",
       "      <td>6</td>\n",
       "      <td>2002</td>\n",
       "      <td>NaN</td>\n",
       "      <td>2007</td>\n",
       "      <td>36,716 SAR</td>\n",
       "      <td>248356</td>\n",
       "      <td>3.88</td>\n",
       "      <td>2WD</td>\n",
       "      <td>standard</td>\n",
       "      <td>Dammam</td>\n",
       "      <td>6</td>\n",
       "      <td>1</td>\n",
       "      <td>Gray</td>\n",
       "      <td>company</td>\n",
       "      <td>0</td>\n",
       "    </tr>\n",
       "    <tr>\n",
       "      <th>2</th>\n",
       "      <td>Masda</td>\n",
       "      <td>suv</td>\n",
       "      <td>4</td>\n",
       "      <td>2007</td>\n",
       "      <td>85,694 SAR</td>\n",
       "      <td>2008</td>\n",
       "      <td>68,383 SAR</td>\n",
       "      <td>37293</td>\n",
       "      <td>12380.0mpl</td>\n",
       "      <td>2WD</td>\n",
       "      <td>standard</td>\n",
       "      <td>Makkah</td>\n",
       "      <td>3</td>\n",
       "      <td>3</td>\n",
       "      <td>Blue</td>\n",
       "      <td>individual</td>\n",
       "      <td>0</td>\n",
       "    </tr>\n",
       "    <tr>\n",
       "      <th>3</th>\n",
       "      <td>Fourd</td>\n",
       "      <td>sedan</td>\n",
       "      <td>4</td>\n",
       "      <td>2002</td>\n",
       "      <td>72,441 SAR</td>\n",
       "      <td>2005</td>\n",
       "      <td>38,834 SAR</td>\n",
       "      <td>22805</td>\n",
       "      <td>6.64</td>\n",
       "      <td>2WD</td>\n",
       "      <td>STANDARD</td>\n",
       "      <td>Madinah</td>\n",
       "      <td>4</td>\n",
       "      <td>4</td>\n",
       "      <td>Brown</td>\n",
       "      <td>company</td>\n",
       "      <td>0</td>\n",
       "    </tr>\n",
       "    <tr>\n",
       "      <th>4</th>\n",
       "      <td>Nesshan</td>\n",
       "      <td>suv</td>\n",
       "      <td>4</td>\n",
       "      <td>1999</td>\n",
       "      <td>87,767 SAR</td>\n",
       "      <td>2004</td>\n",
       "      <td>45,069 SAR</td>\n",
       "      <td>201985</td>\n",
       "      <td>16.45</td>\n",
       "      <td>4WD</td>\n",
       "      <td>standard</td>\n",
       "      <td>Dhahran</td>\n",
       "      <td>7</td>\n",
       "      <td>-2</td>\n",
       "      <td>Red</td>\n",
       "      <td>individual</td>\n",
       "      <td>0</td>\n",
       "    </tr>\n",
       "  </tbody>\n",
       "</table>\n",
       "</div>"
      ],
      "text/plain": [
       "  Manufacturer       Type  Cylinders  Model_Year Model_Price  Sold_Year  \\\n",
       "0      Huendae      sedan          4        2005  54,911 SAR       2009   \n",
       "1        Shevy  crossover          6        2002         NaN       2007   \n",
       "2        Masda        suv          4        2007  85,694 SAR       2008   \n",
       "3        Fourd      sedan          4        2002  72,441 SAR       2005   \n",
       "4      Nesshan        suv          4        1999  87,767 SAR       2004   \n",
       "\n",
       "   Sale_Price  KM_Driven         KPL Power     Class Location  \\\n",
       "0  37,325 SAR     197508  19000.0mpl   2WD  standard   Riyadh   \n",
       "1  36,716 SAR     248356        3.88   2WD  standard   Dammam   \n",
       "2  68,383 SAR      37293  12380.0mpl   2WD  standard   Makkah   \n",
       "3  38,834 SAR      22805        6.64   2WD  STANDARD  Madinah   \n",
       "4  45,069 SAR     201985       16.45   4WD  standard  Dhahran   \n",
       "\n",
       "   Accident_History  Owner_History  Color Seller_Type  Service_History  \n",
       "0                 3             -2  Black  individual                1  \n",
       "1                 6              1   Gray     company                0  \n",
       "2                 3              3   Blue  individual                0  \n",
       "3                 4              4  Brown     company                0  \n",
       "4                 7             -2    Red  individual                0  "
      ]
     },
     "metadata": {},
     "output_type": "display_data"
    },
    {
     "name": "stdout",
     "output_type": "stream",
     "text": [
      "<class 'pandas.core.frame.DataFrame'>\n",
      "RangeIndex: 3000 entries, 0 to 2999\n",
      "Data columns (total 17 columns):\n",
      " #   Column            Non-Null Count  Dtype \n",
      "---  ------            --------------  ----- \n",
      " 0   Manufacturer      3000 non-null   object\n",
      " 1   Type              3000 non-null   object\n",
      " 2   Cylinders         3000 non-null   int64 \n",
      " 3   Model_Year        3000 non-null   int64 \n",
      " 4   Model_Price       2071 non-null   object\n",
      " 5   Sold_Year         3000 non-null   int64 \n",
      " 6   Sale_Price        3000 non-null   object\n",
      " 7   KM_Driven         3000 non-null   int64 \n",
      " 8   KPL               3000 non-null   object\n",
      " 9   Power             3000 non-null   object\n",
      " 10  Class             3000 non-null   object\n",
      " 11  Location          3000 non-null   object\n",
      " 12  Accident_History  3000 non-null   int64 \n",
      " 13  Owner_History     3000 non-null   int64 \n",
      " 14  Color             3000 non-null   object\n",
      " 15  Seller_Type       3000 non-null   object\n",
      " 16  Service_History   3000 non-null   int64 \n",
      "dtypes: int64(7), object(10)\n",
      "memory usage: 398.6+ KB\n"
     ]
    },
    {
     "data": {
      "text/plain": [
       "None"
      ]
     },
     "metadata": {},
     "output_type": "display_data"
    }
   ],
   "source": [
    "import pandas as pd\n",
    "df = pd.read_csv('Group_18_07_A.csv', delimiter = ',')\n",
    "display(df.head())\n",
    "display(df.info())\n"
   ]
  },
  {
   "cell_type": "markdown",
   "id": "killing-village",
   "metadata": {},
   "source": [
    "## Task-2"
   ]
  },
  {
   "cell_type": "code",
   "execution_count": null,
   "id": "pointed-tulsa",
   "metadata": {},
   "outputs": [],
   "source": []
  },
  {
   "cell_type": "markdown",
   "id": "realistic-mayor",
   "metadata": {},
   "source": [
    "## Task-3"
   ]
  },
  {
   "cell_type": "code",
   "execution_count": null,
   "id": "oriented-crime",
   "metadata": {},
   "outputs": [],
   "source": []
  },
  {
   "cell_type": "markdown",
   "id": "impressive-wagon",
   "metadata": {},
   "source": [
    "## Task-4"
   ]
  },
  {
   "cell_type": "code",
   "execution_count": null,
   "id": "stylish-warren",
   "metadata": {},
   "outputs": [],
   "source": []
  },
  {
   "cell_type": "markdown",
   "id": "loose-premises",
   "metadata": {},
   "source": [
    "## Task-5"
   ]
  },
  {
   "cell_type": "code",
   "execution_count": null,
   "id": "tested-north",
   "metadata": {},
   "outputs": [],
   "source": []
  },
  {
   "cell_type": "markdown",
   "id": "acknowledged-volume",
   "metadata": {},
   "source": [
    "## Task-6"
   ]
  },
  {
   "cell_type": "code",
   "execution_count": null,
   "id": "imposed-pound",
   "metadata": {},
   "outputs": [],
   "source": []
  },
  {
   "cell_type": "markdown",
   "id": "disturbed-material",
   "metadata": {},
   "source": [
    "## Task-7"
   ]
  },
  {
   "cell_type": "code",
   "execution_count": 119,
   "id": "149e8dec",
   "metadata": {},
   "outputs": [
    {
     "name": "stdout",
     "output_type": "stream",
     "text": [
      "<class 'pandas.core.frame.DataFrame'>\n",
      "RangeIndex: 5000 entries, 0 to 4999\n",
      "Data columns (total 17 columns):\n",
      " #   Column            Non-Null Count  Dtype  \n",
      "---  ------            --------------  -----  \n",
      " 0   Manufacturer      5000 non-null   object \n",
      " 1   Type              5000 non-null   object \n",
      " 2   Cylinders         5000 non-null   int64  \n",
      " 3   Model_Year        5000 non-null   int64  \n",
      " 4   Model_Price       5000 non-null   int64  \n",
      " 5   Sold_Year         5000 non-null   int64  \n",
      " 6   Sale_Price        5000 non-null   int64  \n",
      " 7   KM_Driven         5000 non-null   int64  \n",
      " 8   KPL               5000 non-null   float64\n",
      " 9   Power             5000 non-null   object \n",
      " 10  Class             5000 non-null   object \n",
      " 11  Location          5000 non-null   object \n",
      " 12  Accident_History  5000 non-null   int64  \n",
      " 13  Owner_History     5000 non-null   int64  \n",
      " 14  Color             5000 non-null   object \n",
      " 15  Seller_Type       5000 non-null   object \n",
      " 16  Service_History   5000 non-null   int64  \n",
      "dtypes: float64(1), int64(9), object(7)\n",
      "memory usage: 664.2+ KB\n"
     ]
    },
    {
     "data": {
      "text/plain": [
       "None"
      ]
     },
     "metadata": {},
     "output_type": "display_data"
    },
    {
     "data": {
      "text/html": [
       "<div>\n",
       "<style scoped>\n",
       "    .dataframe tbody tr th:only-of-type {\n",
       "        vertical-align: middle;\n",
       "    }\n",
       "\n",
       "    .dataframe tbody tr th {\n",
       "        vertical-align: top;\n",
       "    }\n",
       "\n",
       "    .dataframe thead th {\n",
       "        text-align: right;\n",
       "    }\n",
       "</style>\n",
       "<table border=\"1\" class=\"dataframe\">\n",
       "  <thead>\n",
       "    <tr style=\"text-align: right;\">\n",
       "      <th></th>\n",
       "      <th>Cylinders</th>\n",
       "      <th>Model_Year</th>\n",
       "      <th>Model_Price</th>\n",
       "      <th>Sold_Year</th>\n",
       "      <th>Sale_Price</th>\n",
       "      <th>KM_Driven</th>\n",
       "      <th>KPL</th>\n",
       "      <th>Accident_History</th>\n",
       "      <th>Owner_History</th>\n",
       "      <th>Service_History</th>\n",
       "    </tr>\n",
       "  </thead>\n",
       "  <tbody>\n",
       "    <tr>\n",
       "      <th>count</th>\n",
       "      <td>5000.000000</td>\n",
       "      <td>5000.000000</td>\n",
       "      <td>5000.000000</td>\n",
       "      <td>5000.000000</td>\n",
       "      <td>5000.000000</td>\n",
       "      <td>5000.000000</td>\n",
       "      <td>5000.000000</td>\n",
       "      <td>5000.000000</td>\n",
       "      <td>5000.000000</td>\n",
       "      <td>5000.000000</td>\n",
       "    </tr>\n",
       "    <tr>\n",
       "      <th>mean</th>\n",
       "      <td>5.000400</td>\n",
       "      <td>2001.229000</td>\n",
       "      <td>88624.723000</td>\n",
       "      <td>2005.714600</td>\n",
       "      <td>48270.339000</td>\n",
       "      <td>106040.953000</td>\n",
       "      <td>10.114696</td>\n",
       "      <td>5.850800</td>\n",
       "      <td>2.165000</td>\n",
       "      <td>0.302200</td>\n",
       "    </tr>\n",
       "    <tr>\n",
       "      <th>std</th>\n",
       "      <td>1.490921</td>\n",
       "      <td>4.242848</td>\n",
       "      <td>27450.305374</td>\n",
       "      <td>4.716609</td>\n",
       "      <td>17918.180244</td>\n",
       "      <td>80796.961636</td>\n",
       "      <td>5.272224</td>\n",
       "      <td>3.166788</td>\n",
       "      <td>0.909253</td>\n",
       "      <td>0.459257</td>\n",
       "    </tr>\n",
       "    <tr>\n",
       "      <th>min</th>\n",
       "      <td>4.000000</td>\n",
       "      <td>1990.000000</td>\n",
       "      <td>40800.000000</td>\n",
       "      <td>1991.000000</td>\n",
       "      <td>13025.000000</td>\n",
       "      <td>569.000000</td>\n",
       "      <td>1.190000</td>\n",
       "      <td>0.000000</td>\n",
       "      <td>1.000000</td>\n",
       "      <td>0.000000</td>\n",
       "    </tr>\n",
       "    <tr>\n",
       "      <th>25%</th>\n",
       "      <td>4.000000</td>\n",
       "      <td>1998.000000</td>\n",
       "      <td>68555.000000</td>\n",
       "      <td>2003.000000</td>\n",
       "      <td>35616.250000</td>\n",
       "      <td>45800.750000</td>\n",
       "      <td>5.860000</td>\n",
       "      <td>3.000000</td>\n",
       "      <td>1.000000</td>\n",
       "      <td>0.000000</td>\n",
       "    </tr>\n",
       "    <tr>\n",
       "      <th>50%</th>\n",
       "      <td>4.000000</td>\n",
       "      <td>2002.000000</td>\n",
       "      <td>83554.000000</td>\n",
       "      <td>2006.000000</td>\n",
       "      <td>45503.000000</td>\n",
       "      <td>82973.500000</td>\n",
       "      <td>9.130000</td>\n",
       "      <td>5.000000</td>\n",
       "      <td>2.000000</td>\n",
       "      <td>0.000000</td>\n",
       "    </tr>\n",
       "    <tr>\n",
       "      <th>75%</th>\n",
       "      <td>6.000000</td>\n",
       "      <td>2005.000000</td>\n",
       "      <td>104443.000000</td>\n",
       "      <td>2009.000000</td>\n",
       "      <td>57641.500000</td>\n",
       "      <td>143663.500000</td>\n",
       "      <td>13.282500</td>\n",
       "      <td>8.000000</td>\n",
       "      <td>3.000000</td>\n",
       "      <td>1.000000</td>\n",
       "    </tr>\n",
       "    <tr>\n",
       "      <th>max</th>\n",
       "      <td>8.000000</td>\n",
       "      <td>2009.000000</td>\n",
       "      <td>205585.000000</td>\n",
       "      <td>2018.000000</td>\n",
       "      <td>146766.000000</td>\n",
       "      <td>449396.000000</td>\n",
       "      <td>29.750000</td>\n",
       "      <td>14.000000</td>\n",
       "      <td>4.000000</td>\n",
       "      <td>1.000000</td>\n",
       "    </tr>\n",
       "  </tbody>\n",
       "</table>\n",
       "</div>"
      ],
      "text/plain": [
       "         Cylinders   Model_Year    Model_Price    Sold_Year     Sale_Price  \\\n",
       "count  5000.000000  5000.000000    5000.000000  5000.000000    5000.000000   \n",
       "mean      5.000400  2001.229000   88624.723000  2005.714600   48270.339000   \n",
       "std       1.490921     4.242848   27450.305374     4.716609   17918.180244   \n",
       "min       4.000000  1990.000000   40800.000000  1991.000000   13025.000000   \n",
       "25%       4.000000  1998.000000   68555.000000  2003.000000   35616.250000   \n",
       "50%       4.000000  2002.000000   83554.000000  2006.000000   45503.000000   \n",
       "75%       6.000000  2005.000000  104443.000000  2009.000000   57641.500000   \n",
       "max       8.000000  2009.000000  205585.000000  2018.000000  146766.000000   \n",
       "\n",
       "           KM_Driven          KPL  Accident_History  Owner_History  \\\n",
       "count    5000.000000  5000.000000       5000.000000    5000.000000   \n",
       "mean   106040.953000    10.114696          5.850800       2.165000   \n",
       "std     80796.961636     5.272224          3.166788       0.909253   \n",
       "min       569.000000     1.190000          0.000000       1.000000   \n",
       "25%     45800.750000     5.860000          3.000000       1.000000   \n",
       "50%     82973.500000     9.130000          5.000000       2.000000   \n",
       "75%    143663.500000    13.282500          8.000000       3.000000   \n",
       "max    449396.000000    29.750000         14.000000       4.000000   \n",
       "\n",
       "       Service_History  \n",
       "count      5000.000000  \n",
       "mean          0.302200  \n",
       "std           0.459257  \n",
       "min           0.000000  \n",
       "25%           0.000000  \n",
       "50%           0.000000  \n",
       "75%           1.000000  \n",
       "max           1.000000  "
      ]
     },
     "execution_count": 119,
     "metadata": {},
     "output_type": "execute_result"
    }
   ],
   "source": [
    "\n",
    "\n"
   ]
  },
  {
   "cell_type": "code",
   "execution_count": 129,
   "id": "raised-approach",
   "metadata": {},
   "outputs": [
    {
     "name": "stdout",
     "output_type": "stream",
     "text": [
      "The MSE using OLS is: 0.09954446570338697 \n",
      "\n",
      "The coefficient estimates are:\n"
     ]
    },
    {
     "data": {
      "text/html": [
       "<div>\n",
       "<style scoped>\n",
       "    .dataframe tbody tr th:only-of-type {\n",
       "        vertical-align: middle;\n",
       "    }\n",
       "\n",
       "    .dataframe tbody tr th {\n",
       "        vertical-align: top;\n",
       "    }\n",
       "\n",
       "    .dataframe thead th {\n",
       "        text-align: right;\n",
       "    }\n",
       "</style>\n",
       "<table border=\"1\" class=\"dataframe\">\n",
       "  <thead>\n",
       "    <tr style=\"text-align: right;\">\n",
       "      <th></th>\n",
       "      <th>Model_Year</th>\n",
       "      <th>Model_Price</th>\n",
       "      <th>Sold_Year</th>\n",
       "      <th>Sale_Price</th>\n",
       "      <th>KM_Driven</th>\n",
       "      <th>KPL</th>\n",
       "      <th>Accident_History</th>\n",
       "      <th>Owner_History</th>\n",
       "      <th>Service_History</th>\n",
       "    </tr>\n",
       "  </thead>\n",
       "  <tbody>\n",
       "    <tr>\n",
       "      <th>0</th>\n",
       "      <td>0.039702</td>\n",
       "      <td>1.057443</td>\n",
       "      <td>0.853604</td>\n",
       "      <td>-1.182339</td>\n",
       "      <td>-0.064683</td>\n",
       "      <td>0.193416</td>\n",
       "      <td>-0.086254</td>\n",
       "      <td>-0.014132</td>\n",
       "      <td>0.069123</td>\n",
       "    </tr>\n",
       "  </tbody>\n",
       "</table>\n",
       "</div>"
      ],
      "text/plain": [
       "   Model_Year  Model_Price  Sold_Year  Sale_Price  KM_Driven       KPL  \\\n",
       "0    0.039702     1.057443   0.853604   -1.182339  -0.064683  0.193416   \n",
       "\n",
       "   Accident_History  Owner_History  Service_History  \n",
       "0         -0.086254      -0.014132         0.069123  "
      ]
     },
     "metadata": {},
     "output_type": "display_data"
    }
   ],
   "source": [
    "# Generate Train - Test splits\n",
    "df = pd.read_csv('Group_18_07_B.csv', delimiter = ',')\n",
    "\n",
    "df[\"Sale_Price\"]=df[\"Sale_Price\"].apply(lambda x: x.replace(\" SAR\",\"\"))\n",
    "df[\"Sale_Price\"]=df[\"Sale_Price\"].apply(lambda x: int(x.replace(\",\",\"\")))\n",
    "\n",
    "df[\"Model_Price\"]=df[\"Model_Price\"].apply(lambda x: x.replace(\" SAR\",\"\"))\n",
    "df[\"Model_Price\"]=df[\"Model_Price\"].apply(lambda x: int(x.replace(\",\",\"\")))\n",
    "\n",
    "selected_cols= df.select_dtypes(exclude='object').columns\n",
    "\n",
    "from sklearn.model_selection import train_test_split\n",
    "X = df[selected_cols].iloc[:,[0,1,2,3,5,6,7,8,9]].values # Note: that index 9 is Service_History column i will explain why i didn't remove it\n",
    "y = df[selected_cols].iloc[:,4].values \n",
    "X_train, X_test, y_train, y_test = train_test_split(X, y, test_size=0.3, random_state=42)\n",
    "\n",
    "# Scaling the Train - Test splits\n",
    "from sklearn.preprocessing import StandardScaler\n",
    "scaler = StandardScaler()\n",
    "\n",
    "scaler.fit(np.c_[X_train,y_train])\n",
    "\n",
    "A_train = scaler.transform(np.c_[X_train,y_train])\n",
    "X_train = A_train[:,:-1]\n",
    "y_train = A_train[:,-1]\n",
    "\n",
    "A_test = scaler.transform(np.c_[X_test,y_test])\n",
    "X_test = A_test[:,:-1]\n",
    "y_test = A_test[:,-1]\n",
    "\n",
    "# Regression Analysis: Mean Squared Error Metric\n",
    "from sklearn.metrics import mean_squared_error\n",
    "\n",
    "## OLS\n",
    "from sklearn.linear_model import LinearRegression\n",
    "reg1 = LinearRegression(fit_intercept=False).fit(X_train, y_train)\n",
    "y_pred1 = reg1.predict(X_test)\n",
    "print('The MSE using OLS is:', mean_squared_error(y_test, y_pred1),'\\n')\n",
    "\n",
    "print('The coefficient estimates are:')\n",
    "display(pd.DataFrame( reg1.coef_,index=df[selected_cols].iloc[:,1:].columns.tolist()).T)\n",
    "\n",
    "# I did not remove Service_History column (although it is catagorical) for the reason: that the task said assume all inputs are relavent to the output."
   ]
  },
  {
   "cell_type": "markdown",
   "id": "enabling-treatment",
   "metadata": {},
   "source": [
    "## Task-8"
   ]
  },
  {
   "cell_type": "code",
   "execution_count": 127,
   "id": "0e7348c3",
   "metadata": {},
   "outputs": [
    {
     "name": "stdout",
     "output_type": "stream",
     "text": [
      "The MSE using Ridge is: 0.09958246068376665 \n",
      "\n",
      "The coefficient estimates are:\n"
     ]
    },
    {
     "data": {
      "text/html": [
       "<div>\n",
       "<style scoped>\n",
       "    .dataframe tbody tr th:only-of-type {\n",
       "        vertical-align: middle;\n",
       "    }\n",
       "\n",
       "    .dataframe tbody tr th {\n",
       "        vertical-align: top;\n",
       "    }\n",
       "\n",
       "    .dataframe thead th {\n",
       "        text-align: right;\n",
       "    }\n",
       "</style>\n",
       "<table border=\"1\" class=\"dataframe\">\n",
       "  <thead>\n",
       "    <tr style=\"text-align: right;\">\n",
       "      <th></th>\n",
       "      <th>Model_Year</th>\n",
       "      <th>Model_Price</th>\n",
       "      <th>Sold_Year</th>\n",
       "      <th>Sale_Price</th>\n",
       "      <th>KM_Driven</th>\n",
       "      <th>KPL</th>\n",
       "      <th>Accident_History</th>\n",
       "      <th>Owner_History</th>\n",
       "      <th>Service_History</th>\n",
       "    </tr>\n",
       "  </thead>\n",
       "  <tbody>\n",
       "    <tr>\n",
       "      <th>0</th>\n",
       "      <td>0.039618</td>\n",
       "      <td>1.052612</td>\n",
       "      <td>0.853308</td>\n",
       "      <td>-1.177202</td>\n",
       "      <td>-0.066003</td>\n",
       "      <td>0.193256</td>\n",
       "      <td>-0.086278</td>\n",
       "      <td>-0.014112</td>\n",
       "      <td>0.069123</td>\n",
       "    </tr>\n",
       "  </tbody>\n",
       "</table>\n",
       "</div>"
      ],
      "text/plain": [
       "   Model_Year  Model_Price  Sold_Year  Sale_Price  KM_Driven       KPL  \\\n",
       "0    0.039618     1.052612   0.853308   -1.177202  -0.066003  0.193256   \n",
       "\n",
       "   Accident_History  Owner_History  Service_History  \n",
       "0         -0.086278      -0.014112         0.069123  "
      ]
     },
     "metadata": {},
     "output_type": "display_data"
    }
   ],
   "source": [
    "## Ridge\n",
    "from sklearn.linear_model import RidgeCV\n",
    "reg2 = RidgeCV(alphas=[1e-3, 1e-2, 1e-1, 1e0, 1e1, 1e2, 1e3], fit_intercept=False,cv=10).fit(X_train, y_train)\n",
    "y_pred2 = reg2.predict(X_test)\n",
    "\n",
    "print('The MSE using Ridge is:', mean_squared_error(y_test, y_pred2),'\\n')\n",
    "print('The coefficient estimates are:')\n",
    "display(pd.DataFrame( reg2.coef_,index=df[selected_cols].iloc[:,1:].columns.tolist()).T)"
   ]
  },
  {
   "cell_type": "markdown",
   "id": "47c24466",
   "metadata": {},
   "source": [
    "## Task-9"
   ]
  },
  {
   "cell_type": "code",
   "execution_count": 130,
   "id": "022f230a",
   "metadata": {},
   "outputs": [
    {
     "name": "stdout",
     "output_type": "stream",
     "text": [
      "The MSE using Lasso is: 0.09958308704510065 \n",
      "\n",
      "The coefficient estimates are:\n"
     ]
    },
    {
     "data": {
      "text/html": [
       "<div>\n",
       "<style scoped>\n",
       "    .dataframe tbody tr th:only-of-type {\n",
       "        vertical-align: middle;\n",
       "    }\n",
       "\n",
       "    .dataframe tbody tr th {\n",
       "        vertical-align: top;\n",
       "    }\n",
       "\n",
       "    .dataframe thead th {\n",
       "        text-align: right;\n",
       "    }\n",
       "</style>\n",
       "<table border=\"1\" class=\"dataframe\">\n",
       "  <thead>\n",
       "    <tr style=\"text-align: right;\">\n",
       "      <th></th>\n",
       "      <th>Model_Year</th>\n",
       "      <th>Model_Price</th>\n",
       "      <th>Sold_Year</th>\n",
       "      <th>Sale_Price</th>\n",
       "      <th>KM_Driven</th>\n",
       "      <th>KPL</th>\n",
       "      <th>Accident_History</th>\n",
       "      <th>Owner_History</th>\n",
       "      <th>Service_History</th>\n",
       "    </tr>\n",
       "  </thead>\n",
       "  <tbody>\n",
       "    <tr>\n",
       "      <th>0</th>\n",
       "      <td>0.037922</td>\n",
       "      <td>1.044468</td>\n",
       "      <td>0.851293</td>\n",
       "      <td>-1.168343</td>\n",
       "      <td>-0.067292</td>\n",
       "      <td>0.190953</td>\n",
       "      <td>-0.085447</td>\n",
       "      <td>-0.013171</td>\n",
       "      <td>0.06823</td>\n",
       "    </tr>\n",
       "  </tbody>\n",
       "</table>\n",
       "</div>"
      ],
      "text/plain": [
       "   Model_Year  Model_Price  Sold_Year  Sale_Price  KM_Driven       KPL  \\\n",
       "0    0.037922     1.044468   0.851293   -1.168343  -0.067292  0.190953   \n",
       "\n",
       "   Accident_History  Owner_History  Service_History  \n",
       "0         -0.085447      -0.013171          0.06823  "
      ]
     },
     "metadata": {},
     "output_type": "display_data"
    }
   ],
   "source": [
    "from sklearn.linear_model import LassoCV\n",
    "reg3 = LassoCV(alphas=[1e-3, 1e-2, 1e-1, 1e0, 1e1, 1e2, 1e3], \n",
    "               fit_intercept=False,cv=10, random_state=0).fit(X_train, y_train)\n",
    "y_pred3 = reg3.predict(X_test)\n",
    "\n",
    "print('The MSE using Lasso is:', mean_squared_error(y_test, y_pred3),'\\n')\n",
    "print('The coefficient estimates are:')\n",
    "display(pd.DataFrame( reg3.coef_,index=df[selected_cols].iloc[:,1:].columns.tolist()).T)"
   ]
  },
  {
   "cell_type": "markdown",
   "id": "26d02a6b",
   "metadata": {},
   "source": [
    "## Task-10"
   ]
  },
  {
   "cell_type": "code",
   "execution_count": null,
   "id": "3f371371",
   "metadata": {},
   "outputs": [],
   "source": []
  },
  {
   "cell_type": "markdown",
   "id": "2f5fed56",
   "metadata": {},
   "source": [
    "## References"
   ]
  },
  {
   "cell_type": "code",
   "execution_count": null,
   "id": "10cf63e8",
   "metadata": {},
   "outputs": [],
   "source": []
  }
 ],
 "metadata": {
  "hide_input": false,
  "kernelspec": {
   "display_name": "Python 3 (ipykernel)",
   "language": "python",
   "name": "python3"
  },
  "language_info": {
   "codemirror_mode": {
    "name": "ipython",
    "version": 3
   },
   "file_extension": ".py",
   "mimetype": "text/x-python",
   "name": "python",
   "nbconvert_exporter": "python",
   "pygments_lexer": "ipython3",
   "version": "3.9.7"
  },
  "toc": {
   "base_numbering": 1,
   "nav_menu": {},
   "number_sections": true,
   "sideBar": true,
   "skip_h1_title": false,
   "title_cell": "Table of Contents",
   "title_sidebar": "Contents",
   "toc_cell": true,
   "toc_position": {},
   "toc_section_display": true,
   "toc_window_display": false
  },
  "varInspector": {
   "cols": {
    "lenName": 16,
    "lenType": 16,
    "lenVar": 40
   },
   "kernels_config": {
    "python": {
     "delete_cmd_postfix": "",
     "delete_cmd_prefix": "del ",
     "library": "var_list.py",
     "varRefreshCmd": "print(var_dic_list())"
    },
    "r": {
     "delete_cmd_postfix": ") ",
     "delete_cmd_prefix": "rm(",
     "library": "var_list.r",
     "varRefreshCmd": "cat(var_dic_list()) "
    }
   },
   "types_to_exclude": [
    "module",
    "function",
    "builtin_function_or_method",
    "instance",
    "_Feature"
   ],
   "window_display": false
  }
 },
 "nbformat": 4,
 "nbformat_minor": 5
}
